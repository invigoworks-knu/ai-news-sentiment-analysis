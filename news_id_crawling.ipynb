{
 "cells": [
  {
   "cell_type": "code",
   "execution_count": 1,
   "id": "880c71a7",
   "metadata": {},
   "outputs": [
    {
     "name": "stdout",
     "output_type": "stream",
     "text": [
      "Requirement already satisfied: BeautifulSoup4 in ./.venv/lib/python3.13/site-packages (4.13.5)\n",
      "Requirement already satisfied: soupsieve>1.2 in ./.venv/lib/python3.13/site-packages (from BeautifulSoup4) (2.8)\n",
      "Requirement already satisfied: typing-extensions>=4.0.0 in ./.venv/lib/python3.13/site-packages (from BeautifulSoup4) (4.15.0)\n",
      "Note: you may need to restart the kernel to use updated packages.\n",
      "Requirement already satisfied: requests in ./.venv/lib/python3.13/site-packages (2.32.5)\n",
      "Requirement already satisfied: charset_normalizer<4,>=2 in ./.venv/lib/python3.13/site-packages (from requests) (3.4.3)\n",
      "Requirement already satisfied: idna<4,>=2.5 in ./.venv/lib/python3.13/site-packages (from requests) (3.10)\n",
      "Requirement already satisfied: urllib3<3,>=1.21.1 in ./.venv/lib/python3.13/site-packages (from requests) (2.5.0)\n",
      "Requirement already satisfied: certifi>=2017.4.17 in ./.venv/lib/python3.13/site-packages (from requests) (2025.8.3)\n",
      "Note: you may need to restart the kernel to use updated packages.\n"
     ]
    }
   ],
   "source": [
    "%pip install BeautifulSoup4\n",
    "%pip install requests"
   ]
  },
  {
   "cell_type": "code",
   "execution_count": 2,
   "id": "8a1e5b8b",
   "metadata": {},
   "outputs": [],
   "source": [
    "import os\n",
    "try:\n",
    "    os.mkdir(\"ids\")\n",
    "except:\n",
    "    pass"
   ]
  },
  {
   "cell_type": "code",
   "execution_count": 1,
   "id": "def50bc9",
   "metadata": {},
   "outputs": [
    {
     "name": "stdout",
     "output_type": "stream",
     "text": [
      "page 856 finished!\n"
     ]
    }
   ],
   "source": [
    "import time\n",
    "import random\n",
    "import requests\n",
    "from bs4 import BeautifulSoup\n",
    "from requests.adapters import HTTPAdapter\n",
    "from requests.packages.urllib3.util.retry import Retry\n",
    "\n",
    "baseUrl=\"https://coinreaders.com/search.html?submit=submit&search=%EC%9D%B4%EB%8D%94%EB%A6%AC%EC%9B%80&search_exec=all&news_order=1&search_section=all&search_and=1&search_start_day=&search_end_day=20250912&page=\"\n",
    "\n",
    "start=856\n",
    "end=856\n",
    "\n",
    "for page in range(start,end+1):\n",
    "    url = f\"{baseUrl}{page}\"\n",
    "\n",
    "    # 브라우저 유사 헤더\n",
    "    headers = {\n",
    "        \"User-Agent\": (\n",
    "            \"Mozilla/5.0 (Windows NT 10.0; Win64; x64) \"\n",
    "            \"AppleWebKit/537.36 (KHTML, like Gecko) \"\n",
    "            \"Chrome/123.0.0.0 Safari/537.36\"\n",
    "        ),\n",
    "        \"Accept\": \"text/html,application/xhtml+xml,application/xml;q=0.9,*/*;q=0.8\",\n",
    "        \"Accept-Language\": \"ko-KR,ko;q=0.9,en-US;q=0.8,en;q=0.7\",\n",
    "        \"Accept-Encoding\": \"gzip, deflate, br\",\n",
    "        # 목록 페이지 → 상세 페이지 흐름을 재현하려면 Referer를 실제 이전 페이지로 설정\n",
    "        \"Referer\": baseUrl + str(page),\n",
    "        \"Connection\": \"keep-alive\",\n",
    "        \"Upgrade-Insecure-Requests\": \"1\",\n",
    "    }\n",
    "\n",
    "    # 세션 + 재시도(403/429/5xx 백오프)\n",
    "    retry = Retry(\n",
    "        total=5,\n",
    "        backoff_factor=1,  # 1,2,4,8,...\n",
    "        status_forcelist=[403, 429, 500, 502, 503, 504],\n",
    "        allowed_methods=[\"GET\", \"HEAD\", \"OPTIONS\"]\n",
    "    )\n",
    "    adapter = HTTPAdapter(max_retries=retry)\n",
    "\n",
    "    with requests.Session() as s:\n",
    "        s.headers.update(headers)\n",
    "        s.mount(\"https://\", adapter)\n",
    "        s.mount(\"http://\", adapter)\n",
    "\n",
    "        # 너무 빠른 요청을 피하기 위한 랜덤 지연\n",
    "        time.sleep(random.uniform(0.8, 1.6))\n",
    "\n",
    "        res = s.get(url, timeout=15)\n",
    "        if res.status_code!=200:\n",
    "            print(f\"crawling failed from page {page}!\")\n",
    "            break\n",
    "    \n",
    "    soup=BeautifulSoup(res.text, 'html.parser')\n",
    "    \n",
    "    ids = [a.get(\"href\") for a in soup.select(\".search_result_list_box > dl > dt > a\")]\n",
    "    \n",
    "    file=open(f\"ids/page{page}.txt\",\"w\")\n",
    "    file.write(\",\".join(ids))\n",
    "    file.close()\n",
    "    print(f\"page {page} finished!\")\n"
   ]
  },
  {
   "cell_type": "code",
   "execution_count": null,
   "id": "e348b769",
   "metadata": {},
   "outputs": [],
   "source": []
  }
 ],
 "metadata": {
  "kernelspec": {
   "display_name": ".venv (3.13.5)",
   "language": "python",
   "name": "python3"
  },
  "language_info": {
   "codemirror_mode": {
    "name": "ipython",
    "version": 3
   },
   "file_extension": ".py",
   "mimetype": "text/x-python",
   "name": "python",
   "nbconvert_exporter": "python",
   "pygments_lexer": "ipython3",
   "version": "3.13.5"
  }
 },
 "nbformat": 4,
 "nbformat_minor": 5
}
