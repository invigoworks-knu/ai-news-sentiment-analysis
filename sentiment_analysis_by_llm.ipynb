{
 "cells": [
  {
   "cell_type": "code",
   "execution_count": 1,
   "id": "befb8348",
   "metadata": {},
   "outputs": [
    {
     "name": "stderr",
     "output_type": "stream",
     "text": [
      "/Users/dogiheon/Desktop/invigoworks/.venv/lib/python3.13/site-packages/IPython/core/interactiveshell.py:3699: LangChainDeprecationWarning: As of langchain-core 0.3.0, LangChain uses pydantic v2 internally. The langchain_core.pydantic_v1 module was a compatibility shim for pydantic v1, and should no longer be used. Please update the code to import from Pydantic directly.\n",
      "\n",
      "For example, replace imports like: `from langchain_core.pydantic_v1 import BaseModel`\n",
      "with: `from pydantic import BaseModel`\n",
      "or the v1 compatibility namespace if you are working in a code base that has not been fully upgraded to pydantic 2 yet. \tfrom pydantic.v1 import BaseModel\n",
      "\n",
      "  exec(code_obj, self.user_global_ns, self.user_ns)\n"
     ]
    }
   ],
   "source": [
    "from typing import Literal\n",
    "from langchain_core.prompts import ChatPromptTemplate\n",
    "from langchain_core.output_parsers import JsonOutputParser\n",
    "from langchain_core.pydantic_v1 import BaseModel, Field\n",
    "from langchain_openai import ChatOpenAI\n",
    "import pandas as pd\n",
    "import os\n",
    "from dotenv import load_dotenv"
   ]
  },
  {
   "cell_type": "code",
   "execution_count": 2,
   "id": "f7df4621",
   "metadata": {},
   "outputs": [],
   "source": [
    "load_dotenv(verbose=True)\n",
    "\n",
    "# 1) 출력 스키마 정의\n",
    "class Sentiment(BaseModel):\n",
    "    label: Literal[\"negative\", \"neutral\", \"positive\"] = Field(..., description=\"감성 라벨\")\n",
    "\n",
    "parser = JsonOutputParser(pydantic_object=Sentiment)\n",
    "\n",
    "# 2) 프롬프트 템플릿\n",
    "system_text = \"\"\"뉴스 감성 분석기다.\n",
    "- 사실 전달형/중립적 보도 톤은 기본값으로 neutral 처리한다.\n",
    "- 명백한 악재(적자 확대, 리콜, 규제 불이익, 급락 등)는 negative.\n",
    "- 명백한 호재(사상 최대 실적, 대규모 투자 유치/수주, 급등 등)는 positive.\n",
    "- 혼재할 경우 기사 전체 톤 기준으로 단 하나의 라벨만 선택한다.\n",
    "- 반드시 JSON 한 줄만 출력한다.\n",
    "출력 스키마: {{\"label\":\"negative|neutral|positive\"}}\n",
    "\"\"\"\n",
    "\n",
    "human_text = \"\"\"\n",
    "본문: {body}\n",
    "\n",
    "{format_instructions}\n",
    "\"\"\"\n",
    "\n",
    "prompt = ChatPromptTemplate.from_messages(\n",
    "    [\n",
    "        (\"system\", system_text),\n",
    "        (\"human\", human_text),\n",
    "    ]\n",
    ").partial(format_instructions=parser.get_format_instructions())\n",
    "\n",
    "# 3) 모델 정의 (환경변수 OPENAI_API_KEY 필요)\n",
    "OPENAI_API_KEY=os.getenv('OPENAI_API_KEY')\n",
    "\n",
    "llm = ChatOpenAI(model=\"gpt-4o-mini\", temperature=0, api_key=OPENAI_API_KEY)  # 임의 모델. 교체 가능\n",
    "\n",
    "# 4) 체인 구성: Prompt -> LLM -> JSON 파서\n",
    "chain = prompt | llm | parser"
   ]
  },
  {
   "cell_type": "code",
   "execution_count": 3,
   "id": "f501a2d3",
   "metadata": {},
   "outputs": [],
   "source": [
    "def parseResponse(label):\n",
    "    if label==\"negative\":\n",
    "        return -1\n",
    "    elif label==\"neutral\":\n",
    "        return 0\n",
    "    else:\n",
    "        return 1"
   ]
  },
  {
   "cell_type": "code",
   "execution_count": 4,
   "id": "a9d689bc",
   "metadata": {},
   "outputs": [
    {
     "name": "stdout",
     "output_type": "stream",
     "text": [
      "page 856 finished!\n"
     ]
    }
   ],
   "source": [
    "start=856\n",
    "end=856\n",
    "\n",
    "page=start\n",
    "\n",
    "for page in range(start,end+1):\n",
    "    df=pd.read_csv(f\"news_list/page{page}.csv\")\n",
    "\n",
    "    news_list=df[\"news\"].to_list()\n",
    "\n",
    "    inputs=[]\n",
    "\n",
    "    labels=[0]*len(news_list)\n",
    "\n",
    "    for news in news_list:\n",
    "        inputs.append({\"body\":news})\n",
    "\n",
    "    async for idx, out in chain.abatch_as_completed(inputs, config={\"max_concurrency\": 16}):\n",
    "        labels[idx]=parseResponse(out[\"label\"])\n",
    "\n",
    "    df[\"label\"]=labels\n",
    "    df.to_csv(f\"news_list_labeled/page{page}.csv\", index=False)\n",
    "    print(f\"page {page} finished!\")"
   ]
  },
  {
   "cell_type": "code",
   "execution_count": null,
   "id": "67445f0f",
   "metadata": {},
   "outputs": [],
   "source": []
  }
 ],
 "metadata": {
  "kernelspec": {
   "display_name": ".venv (3.13.5)",
   "language": "python",
   "name": "python3"
  },
  "language_info": {
   "codemirror_mode": {
    "name": "ipython",
    "version": 3
   },
   "file_extension": ".py",
   "mimetype": "text/x-python",
   "name": "python",
   "nbconvert_exporter": "python",
   "pygments_lexer": "ipython3",
   "version": "3.13.5"
  }
 },
 "nbformat": 4,
 "nbformat_minor": 5
}
