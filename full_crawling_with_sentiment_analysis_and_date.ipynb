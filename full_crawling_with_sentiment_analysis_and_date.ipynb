{
 "cells": [
  {
   "cell_type": "code",
   "execution_count": 4,
   "id": "0fec00f1",
   "metadata": {},
   "outputs": [],
   "source": [
    "from datetime import datetime, timezone, timedelta\n",
    "\n",
    "date=datetime.now(timezone(timedelta(hours=9))).isoformat().split(\"T\")[0]"
   ]
  },
  {
   "cell_type": "code",
   "execution_count": 5,
   "id": "5becbd1e",
   "metadata": {},
   "outputs": [],
   "source": [
    "date=\"2025-10-24\""
   ]
  },
  {
   "cell_type": "code",
   "execution_count": 6,
   "id": "a1e12769",
   "metadata": {},
   "outputs": [],
   "source": [
    "import time\n",
    "import random\n",
    "import requests\n",
    "from bs4 import BeautifulSoup\n",
    "from requests.adapters import HTTPAdapter\n",
    "from requests.packages.urllib3.util.retry import Retry\n",
    "\n",
    "def custom_request(url):\n",
    "    # 브라우저 유사 헤더\n",
    "    headers = {\n",
    "        \"User-Agent\": (\n",
    "            \"Mozilla/5.0 (Windows NT 10.0; Win64; x64) \"\n",
    "            \"AppleWebKit/537.36 (KHTML, like Gecko) \"\n",
    "            \"Chrome/123.0.0.0 Safari/537.36\"\n",
    "        ),\n",
    "        \"Accept\": \"text/html,application/xhtml+xml,application/xml;q=0.9,*/*;q=0.8\",\n",
    "        \"Accept-Language\": \"ko-KR,ko;q=0.9,en-US;q=0.8,en;q=0.7\",\n",
    "        \"Accept-Encoding\": \"gzip, deflate, br\",\n",
    "        # 목록 페이지 → 상세 페이지 흐름을 재현하려면 Referer를 실제 이전 페이지로 설정\n",
    "        \"Referer\": url,\n",
    "        \"Connection\": \"keep-alive\",\n",
    "        \"Upgrade-Insecure-Requests\": \"1\",\n",
    "    }\n",
    "\n",
    "    # 세션 + 재시도(403/429/5xx 백오프)\n",
    "    retry = Retry(\n",
    "        total=5,\n",
    "        backoff_factor=1,  # 1,2,4,8,...\n",
    "        status_forcelist=[403, 429, 500, 502, 503, 504],\n",
    "        allowed_methods=[\"GET\", \"HEAD\", \"OPTIONS\"]\n",
    "    )\n",
    "    adapter = HTTPAdapter(max_retries=retry)\n",
    "\n",
    "    with requests.Session() as s:\n",
    "        s.headers.update(headers)\n",
    "        s.mount(\"https://\", adapter)\n",
    "        s.mount(\"http://\", adapter)\n",
    "\n",
    "        # 너무 빠른 요청을 피하기 위한 랜덤 지연\n",
    "        time.sleep(random.uniform(0.8, 1.6))\n",
    "\n",
    "        res = s.get(url, timeout=15)\n",
    "        if res.status_code!=200:\n",
    "            print(f\"crawling failed from url : {url}!\")\n",
    "            return\n",
    "    \n",
    "    soup=BeautifulSoup(res.text, 'html.parser')\n",
    "    return soup"
   ]
  },
  {
   "cell_type": "code",
   "execution_count": 7,
   "id": "b167ad6b",
   "metadata": {},
   "outputs": [],
   "source": [
    "def get_last_page(date):\n",
    "    processed_date=date.replace(\"-\",\"\")\n",
    "    baseUrl=f\"https://coinreaders.com/search.html?submit=submit&search=%EC%9D%B4%EB%8D%94%EB%A6%AC%EC%9B%80&search_exec=all&news_order=1&search_section=all&search_and=1&search_start_day={processed_date}&search_end_day={processed_date}&page=\"\n",
    "\n",
    "    page=1\n",
    "\n",
    "    url = f\"{baseUrl}{page}\"\n",
    "\n",
    "    soup=custom_request(url)\n",
    "\n",
    "    last_page=None\n",
    "    try:\n",
    "        last_page=int(soup.select(\".paging a\")[-1].text)\n",
    "    except:\n",
    "        last_page=1\n",
    "    return last_page"
   ]
  },
  {
   "cell_type": "markdown",
   "id": "277a7494",
   "metadata": {},
   "source": [
    "# 1. get ids"
   ]
  },
  {
   "cell_type": "code",
   "execution_count": 8,
   "id": "c51a5236",
   "metadata": {},
   "outputs": [],
   "source": [
    "last_page=get_last_page(date)\n",
    "\n",
    "processed_date=date.replace(\"-\",\"\")\n",
    "baseUrl=f\"https://coinreaders.com/search.html?submit=submit&search=%EC%9D%B4%EB%8D%94%EB%A6%AC%EC%9B%80&search_exec=all&news_order=1&search_section=all&search_and=1&search_start_day={processed_date}&search_end_day={processed_date}&page=\"\n",
    "\n",
    "full_ids=[]\n",
    "for page in range(1,last_page+1):\n",
    "    soup=custom_request(f\"{baseUrl}{page}\")\n",
    "    ids = [a.get(\"href\") for a in soup.select(\".search_result_list_box > dl > dt > a\")]\n",
    "    full_ids.extend(ids)\n",
    "    \n",
    "file=open(f\"ids/{date}.txt\",\"w\")\n",
    "file.write(\",\".join(ids))\n",
    "file.close()"
   ]
  },
  {
   "cell_type": "markdown",
   "id": "556496ed",
   "metadata": {},
   "source": [
    "# 2. get news"
   ]
  },
  {
   "cell_type": "code",
   "execution_count": 9,
   "id": "0faf85f1",
   "metadata": {},
   "outputs": [],
   "source": [
    "import pandas as pd\n",
    "\n",
    "filename=f\"ids/{date}.txt\"\n",
    "file=open(filename,\"r\")\n",
    "ids=file.read().split(\",\")\n",
    "\n",
    "baseUrl=\"https://www.coinreaders.com\"\n",
    "\n",
    "news_list=[]\n",
    "for id in ids:\n",
    "    url = f\"{baseUrl}{id}\"\n",
    "\n",
    "    # 브라우저 유사 헤더\n",
    "    headers = {\n",
    "        \"User-Agent\": (\n",
    "            \"Mozilla/5.0 (Windows NT 10.0; Win64; x64) \"\n",
    "            \"AppleWebKit/537.36 (KHTML, like Gecko) \"\n",
    "            \"Chrome/123.0.0.0 Safari/537.36\"\n",
    "        ),\n",
    "        \"Accept\": \"text/html,application/xhtml+xml,application/xml;q=0.9,*/*;q=0.8\",\n",
    "        \"Accept-Language\": \"ko-KR,ko;q=0.9,en-US;q=0.8,en;q=0.7\",\n",
    "        \"Accept-Encoding\": \"gzip, deflate, br\",\n",
    "        # 목록 페이지 → 상세 페이지 흐름을 재현하려면 Referer를 실제 이전 페이지로 설정\n",
    "        \"Referer\": baseUrl + id,\n",
    "        \"Connection\": \"keep-alive\",\n",
    "        \"Upgrade-Insecure-Requests\": \"1\",\n",
    "    }\n",
    "\n",
    "    # 세션 + 재시도(403/429/5xx 백오프)\n",
    "    retry = Retry(\n",
    "        total=5,\n",
    "        backoff_factor=1,  # 1,2,4,8,...\n",
    "        status_forcelist=[403, 429, 500, 502, 503, 504],\n",
    "        allowed_methods=[\"GET\", \"HEAD\", \"OPTIONS\"]\n",
    "    )\n",
    "    adapter = HTTPAdapter(max_retries=retry)\n",
    "\n",
    "    with requests.Session() as s:\n",
    "        s.headers.update(headers)\n",
    "        s.mount(\"https://\", adapter)\n",
    "        s.mount(\"http://\", adapter)\n",
    "\n",
    "        # 너무 빠른 요청을 피하기 위한 랜덤 지연\n",
    "        time.sleep(random.uniform(0.8, 1.6))\n",
    "\n",
    "        res = s.get(url, timeout=15)\n",
    "        if res.status_code!=200:\n",
    "            print(f\"crawling failed from page {page}!\")\n",
    "            break\n",
    "    \n",
    "    soup=BeautifulSoup(res.text, 'html.parser')\n",
    "    temp=\"\".join([element.text for element in soup.select(\"#textinput > p\") if element.text!='\\xa0'])\n",
    "    if temp=='':\n",
    "        temp=soup.select_one(\"#textinput\").text\n",
    "    news_list.append(temp)\n",
    "    \n",
    "df = pd.DataFrame(\n",
    "    [{\"news\": n, \"date\": date.replace(\"-\", \".\")} for n in news_list],\n",
    "    columns=[\"news\", \"date\"],\n",
    ")\n",
    "df.to_csv(f\"news_list/{date}.csv\", index=False)"
   ]
  },
  {
   "cell_type": "markdown",
   "id": "3ef06f9b",
   "metadata": {},
   "source": [
    "# 3. llm 감성 분석"
   ]
  },
  {
   "cell_type": "code",
   "execution_count": 10,
   "id": "114caa5a",
   "metadata": {},
   "outputs": [
    {
     "name": "stderr",
     "output_type": "stream",
     "text": [
      "/Users/dogiheon/Desktop/invigoworks/.venv/lib/python3.13/site-packages/IPython/core/interactiveshell.py:3699: LangChainDeprecationWarning: As of langchain-core 0.3.0, LangChain uses pydantic v2 internally. The langchain_core.pydantic_v1 module was a compatibility shim for pydantic v1, and should no longer be used. Please update the code to import from Pydantic directly.\n",
      "\n",
      "For example, replace imports like: `from langchain_core.pydantic_v1 import BaseModel`\n",
      "with: `from pydantic import BaseModel`\n",
      "or the v1 compatibility namespace if you are working in a code base that has not been fully upgraded to pydantic 2 yet. \tfrom pydantic.v1 import BaseModel\n",
      "\n",
      "  exec(code_obj, self.user_global_ns, self.user_ns)\n"
     ]
    }
   ],
   "source": [
    "from typing import Literal\n",
    "from langchain_core.prompts import ChatPromptTemplate\n",
    "from langchain_core.output_parsers import JsonOutputParser\n",
    "from langchain_core.pydantic_v1 import BaseModel, Field\n",
    "from langchain_openai import ChatOpenAI\n",
    "import pandas as pd\n",
    "import os\n",
    "from dotenv import load_dotenv\n",
    "\n",
    "load_dotenv(verbose=True)\n",
    "\n",
    "# 1) 출력 스키마 정의\n",
    "class Sentiment(BaseModel):\n",
    "    label: Literal[\"negative\", \"neutral\", \"positive\"] = Field(..., description=\"감성 라벨\")\n",
    "\n",
    "parser = JsonOutputParser(pydantic_object=Sentiment)\n",
    "\n",
    "# 2) 프롬프트 템플릿\n",
    "system_text = \"\"\"\n",
    "### 작업 정의\n",
    "당신은 암호화폐 시장 전문 감성 분석가입니다. 주어진 한국어 암호화폐 뉴스가 해당 코인(비트코인, 이더리움 등)의 가격에 미칠 영향을 분석하여 긍정(positive), 부정(negative), 중립(neutral) 중 하나로 분류하세요.\n",
    "\n",
    "### 분류 기준\n",
    "- **긍정(positive)**: 가격 상승, 기술 발전, 규제 완화, 기관 투자 증가, 채택 확대 등 호재성 내용\n",
    "- **부정(negative)**: 가격 하락, 보안 사고, 규제 강화, 시장 불안, 청산 사태 등 악재성 내용\n",
    "- **중립(neutral)**: 단순 사실 전달, 양면적 내용, 명확한 방향성 없는 시장 분석\n",
    "\n",
    "### Few-Shot 예시\n",
    "\n",
    "**예시 1:**\n",
    "뉴스: \"이더리움은 모멘텀 반등하며 최근 몇 달 동안 MTM 지표가 상승세를 나타내고 단기 흐름과 장기 추세가 점차 일치하고 있다.\"\n",
    "result: positive\n",
    "\n",
    "**예시 2:**\n",
    "뉴스: \"비트코인 이더리움 시세가 모두 단기적으로 내림세를 보일 가능성이 크다는 조사기관의 관측이 나왔다.\"\n",
    "result: negative\n",
    "\n",
    "**예시 3:**\n",
    "뉴스: \"디지털 자산은 증권 토큰, 상품 토큰, 상업 및 소비자용 토큰의 세 가지 범주로 나눌 것을 제안한다.\"\n",
    "result: neutral\n",
    "\n",
    "**예시 4:**\n",
    "뉴스: \"트럼프를 필두로 한 미국 행정부가 유니스왑 등 이더리움 기반 탈중앙화 금융을 직접 언급하면서 제도권 편입이 필요하다고 지적했다.\"\n",
    "result: positive\n",
    "\n",
    "**예시 5:**\n",
    "뉴스: \"가상화폐 시장 역사상 24시간 기준 최대 청산 사태가 발생했으며 이더리움은 최고점 대비 12.2% 급락했다.\"\n",
    "result: negative\n",
    "\n",
    "**예시 6:**\n",
    "뉴스: \"암호화폐 거래소가 자회사의 가상자산사업자(VASP) 권한을 활용해 거래소 출범을 추진한다.\"\n",
    "result: neutral\n",
    "\n",
    "**예시 7:**\n",
    "뉴스: \"SEC가 내놓은 프로젝트 크립토는 미국 금융의 온체인화를 표방하며 이더리움에 긍정적인 영향을 미친다.\"\n",
    "result: positive\n",
    "\n",
    "**예시 8:**\n",
    "뉴스: \"비트코인은 발표 직후 단 몇 초 만에 1만 달러 이상 급락했고 이더리움과 주요 알트코인은 평균 60~70% 낙폭을 기록했다.\"\n",
    "result: negative\n",
    "\n",
    "**예시 9:**\n",
    "뉴스: \"CFTC는 비트코인과 이더를 상품으로, SEC는 특정 디지털 자산을 증권으로 간주하는 분류 체계를 수립한다.\"\n",
    "result: neutral\n",
    "\n",
    "### 주의사항\n",
    "1. **한국 시장 특성 반영**: 김치 프리미엄, 국내 거래소 이슈, 한국 규제 동향 고려\n",
    "2. **숫자와 맥락 연계**: 단순 가격 변동률보다 전후 맥락과 시장 흐름 분석\n",
    "3. **혼합 감성 처리**: 긍정/부정 요소가 혼재된 경우 전체적 논조의 우세한 방향 선택\n",
    "4. **시간 민감성**: \"급락 후 급반등\" 같은 단기 변동성은 최종 상태에 초점\n",
    "5. **규제/기술 뉴스**: 장기적 영향력을 평가 (예: DeFi 제도권 편입은 긍정)\n",
    "\n",
    "### 출력 형식\n",
    "result: [positive/negative/neutral]\n",
    "\"\"\"\n",
    "\n",
    "human_text = \"\"\"\n",
    "본문: {body}\n",
    "\n",
    "{format_instructions}\n",
    "\"\"\"\n",
    "\n",
    "prompt = ChatPromptTemplate.from_messages(\n",
    "    [\n",
    "        (\"system\", system_text),\n",
    "        (\"human\", human_text),\n",
    "    ]\n",
    ").partial(format_instructions=parser.get_format_instructions())\n",
    "\n",
    "# 3) 모델 정의 (환경변수 OPENAI_API_KEY 필요)\n",
    "OPENAI_API_KEY=os.getenv('OPENAI_API_KEY')\n",
    "\n",
    "llm = ChatOpenAI(model=\"gpt-4o-mini\", temperature=0, api_key=OPENAI_API_KEY)  # 임의 모델. 교체 가능\n",
    "\n",
    "# 4) 체인 구성: Prompt -> LLM -> JSON 파서\n",
    "chain = prompt | llm | parser"
   ]
  },
  {
   "cell_type": "code",
   "execution_count": 11,
   "id": "7f4a743b",
   "metadata": {},
   "outputs": [],
   "source": [
    "def parseResponse(label):\n",
    "    if label==\"negative\":\n",
    "        return -1\n",
    "    elif label==\"neutral\":\n",
    "        return 0\n",
    "    else:\n",
    "        return 1"
   ]
  },
  {
   "cell_type": "code",
   "execution_count": 12,
   "id": "0e2a45b5",
   "metadata": {},
   "outputs": [],
   "source": [
    "df=pd.read_csv(f\"news_list/{date}.csv\")"
   ]
  },
  {
   "cell_type": "code",
   "execution_count": 13,
   "id": "d082d44a",
   "metadata": {},
   "outputs": [],
   "source": [
    "news_list=df[\"news\"].tolist()\n",
    "\n",
    "labels=[0]*len(news_list)"
   ]
  },
  {
   "cell_type": "code",
   "execution_count": 14,
   "id": "e00f9e7e",
   "metadata": {},
   "outputs": [
    {
     "name": "stdout",
     "output_type": "stream",
     "text": [
      "1/7 finished...\n",
      "2/7 finished...\n",
      "3/7 finished...\n",
      "4/7 finished...\n",
      "5/7 finished...\n",
      "6/7 finished...\n",
      "7/7 finished...\n"
     ]
    }
   ],
   "source": [
    "for idx, news in enumerate(news_list):\n",
    "    labels[idx]=parseResponse(chain.invoke(news)[\"label\"])\n",
    "    print(f\"{idx+1}/{len(news_list)} finished...\")"
   ]
  },
  {
   "cell_type": "code",
   "execution_count": 15,
   "id": "5204ab34",
   "metadata": {},
   "outputs": [],
   "source": [
    "df[\"label\"]=labels\n",
    "df.to_csv(f\"news_list_group_by_date/{date.replace(\"-\",\".\")}.csv\", index=False)"
   ]
  },
  {
   "cell_type": "code",
   "execution_count": 16,
   "id": "09df4a4b",
   "metadata": {},
   "outputs": [
    {
     "name": "stdout",
     "output_type": "stream",
     "text": [
      "2025-10-24 finished\n"
     ]
    }
   ],
   "source": [
    "print(f\"{date} finished\")"
   ]
  }
 ],
 "metadata": {
  "kernelspec": {
   "display_name": ".venv (3.13.5)",
   "language": "python",
   "name": "python3"
  },
  "language_info": {
   "codemirror_mode": {
    "name": "ipython",
    "version": 3
   },
   "file_extension": ".py",
   "mimetype": "text/x-python",
   "name": "python",
   "nbconvert_exporter": "python",
   "pygments_lexer": "ipython3",
   "version": "3.13.5"
  }
 },
 "nbformat": 4,
 "nbformat_minor": 5
}
