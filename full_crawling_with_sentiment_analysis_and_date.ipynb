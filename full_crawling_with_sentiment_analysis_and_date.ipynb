{
 "cells": [
  {
   "cell_type": "code",
   "execution_count": 1,
   "id": "0fec00f1",
   "metadata": {},
   "outputs": [],
   "source": [
    "from datetime import datetime, timezone, timedelta\n",
    "\n",
    "date=datetime.now(timezone(timedelta(hours=9))).isoformat().split(\"T\")[0]"
   ]
  },
  {
   "cell_type": "code",
   "execution_count": 2,
   "id": "faa4fbce",
   "metadata": {},
   "outputs": [],
   "source": [
    "date=\"2025-10-07\""
   ]
  },
  {
   "cell_type": "code",
   "execution_count": 3,
   "id": "a1e12769",
   "metadata": {},
   "outputs": [],
   "source": [
    "import time\n",
    "import random\n",
    "import requests\n",
    "from bs4 import BeautifulSoup\n",
    "from requests.adapters import HTTPAdapter\n",
    "from requests.packages.urllib3.util.retry import Retry\n",
    "\n",
    "def custom_request(url):\n",
    "    # 브라우저 유사 헤더\n",
    "    headers = {\n",
    "        \"User-Agent\": (\n",
    "            \"Mozilla/5.0 (Windows NT 10.0; Win64; x64) \"\n",
    "            \"AppleWebKit/537.36 (KHTML, like Gecko) \"\n",
    "            \"Chrome/123.0.0.0 Safari/537.36\"\n",
    "        ),\n",
    "        \"Accept\": \"text/html,application/xhtml+xml,application/xml;q=0.9,*/*;q=0.8\",\n",
    "        \"Accept-Language\": \"ko-KR,ko;q=0.9,en-US;q=0.8,en;q=0.7\",\n",
    "        \"Accept-Encoding\": \"gzip, deflate, br\",\n",
    "        # 목록 페이지 → 상세 페이지 흐름을 재현하려면 Referer를 실제 이전 페이지로 설정\n",
    "        \"Referer\": url,\n",
    "        \"Connection\": \"keep-alive\",\n",
    "        \"Upgrade-Insecure-Requests\": \"1\",\n",
    "    }\n",
    "\n",
    "    # 세션 + 재시도(403/429/5xx 백오프)\n",
    "    retry = Retry(\n",
    "        total=5,\n",
    "        backoff_factor=1,  # 1,2,4,8,...\n",
    "        status_forcelist=[403, 429, 500, 502, 503, 504],\n",
    "        allowed_methods=[\"GET\", \"HEAD\", \"OPTIONS\"]\n",
    "    )\n",
    "    adapter = HTTPAdapter(max_retries=retry)\n",
    "\n",
    "    with requests.Session() as s:\n",
    "        s.headers.update(headers)\n",
    "        s.mount(\"https://\", adapter)\n",
    "        s.mount(\"http://\", adapter)\n",
    "\n",
    "        # 너무 빠른 요청을 피하기 위한 랜덤 지연\n",
    "        time.sleep(random.uniform(0.8, 1.6))\n",
    "\n",
    "        res = s.get(url, timeout=15)\n",
    "        if res.status_code!=200:\n",
    "            print(f\"crawling failed from url : {url}!\")\n",
    "            return\n",
    "    \n",
    "    soup=BeautifulSoup(res.text, 'html.parser')\n",
    "    return soup"
   ]
  },
  {
   "cell_type": "code",
   "execution_count": 4,
   "id": "b167ad6b",
   "metadata": {},
   "outputs": [],
   "source": [
    "def get_last_page(date):\n",
    "    processed_date=date.replace(\"-\",\"\")\n",
    "    baseUrl=f\"https://coinreaders.com/search.html?submit=submit&search=%EC%9D%B4%EB%8D%94%EB%A6%AC%EC%9B%80&search_exec=all&news_order=1&search_section=all&search_and=1&search_start_day={processed_date}&search_end_day={processed_date}&page=\"\n",
    "\n",
    "    page=1\n",
    "\n",
    "    url = f\"{baseUrl}{page}\"\n",
    "\n",
    "    soup=custom_request(url)\n",
    "\n",
    "    last_page=None\n",
    "    try:\n",
    "        last_page=int(soup.select(\".paging a\")[-1].text)\n",
    "    except:\n",
    "        last_page=1\n",
    "    return last_page"
   ]
  },
  {
   "cell_type": "markdown",
   "id": "277a7494",
   "metadata": {},
   "source": [
    "# 1. get ids"
   ]
  },
  {
   "cell_type": "code",
   "execution_count": 5,
   "id": "c51a5236",
   "metadata": {},
   "outputs": [],
   "source": [
    "last_page=get_last_page(date)\n",
    "\n",
    "processed_date=date.replace(\"-\",\"\")\n",
    "baseUrl=f\"https://coinreaders.com/search.html?submit=submit&search=%EC%9D%B4%EB%8D%94%EB%A6%AC%EC%9B%80&search_exec=all&news_order=1&search_section=all&search_and=1&search_start_day={processed_date}&search_end_day={processed_date}&page=\"\n",
    "\n",
    "full_ids=[]\n",
    "for page in range(1,last_page+1):\n",
    "    soup=custom_request(f\"{baseUrl}{page}\")\n",
    "    ids = [a.get(\"href\") for a in soup.select(\".search_result_list_box > dl > dt > a\")]\n",
    "    full_ids.extend(ids)\n",
    "    \n",
    "file=open(f\"ids/{date}.txt\",\"w\")\n",
    "file.write(\",\".join(ids))\n",
    "file.close()"
   ]
  },
  {
   "cell_type": "markdown",
   "id": "556496ed",
   "metadata": {},
   "source": [
    "# 2. get news"
   ]
  },
  {
   "cell_type": "code",
   "execution_count": 6,
   "id": "0faf85f1",
   "metadata": {},
   "outputs": [],
   "source": [
    "import pandas as pd\n",
    "\n",
    "filename=f\"ids/{date}.txt\"\n",
    "file=open(filename,\"r\")\n",
    "ids=file.read().split(\",\")\n",
    "\n",
    "baseUrl=\"https://www.coinreaders.com\"\n",
    "\n",
    "news_list=[]\n",
    "for id in ids:\n",
    "    url = f\"{baseUrl}{id}\"\n",
    "\n",
    "    # 브라우저 유사 헤더\n",
    "    headers = {\n",
    "        \"User-Agent\": (\n",
    "            \"Mozilla/5.0 (Windows NT 10.0; Win64; x64) \"\n",
    "            \"AppleWebKit/537.36 (KHTML, like Gecko) \"\n",
    "            \"Chrome/123.0.0.0 Safari/537.36\"\n",
    "        ),\n",
    "        \"Accept\": \"text/html,application/xhtml+xml,application/xml;q=0.9,*/*;q=0.8\",\n",
    "        \"Accept-Language\": \"ko-KR,ko;q=0.9,en-US;q=0.8,en;q=0.7\",\n",
    "        \"Accept-Encoding\": \"gzip, deflate, br\",\n",
    "        # 목록 페이지 → 상세 페이지 흐름을 재현하려면 Referer를 실제 이전 페이지로 설정\n",
    "        \"Referer\": baseUrl + id,\n",
    "        \"Connection\": \"keep-alive\",\n",
    "        \"Upgrade-Insecure-Requests\": \"1\",\n",
    "    }\n",
    "\n",
    "    # 세션 + 재시도(403/429/5xx 백오프)\n",
    "    retry = Retry(\n",
    "        total=5,\n",
    "        backoff_factor=1,  # 1,2,4,8,...\n",
    "        status_forcelist=[403, 429, 500, 502, 503, 504],\n",
    "        allowed_methods=[\"GET\", \"HEAD\", \"OPTIONS\"]\n",
    "    )\n",
    "    adapter = HTTPAdapter(max_retries=retry)\n",
    "\n",
    "    with requests.Session() as s:\n",
    "        s.headers.update(headers)\n",
    "        s.mount(\"https://\", adapter)\n",
    "        s.mount(\"http://\", adapter)\n",
    "\n",
    "        # 너무 빠른 요청을 피하기 위한 랜덤 지연\n",
    "        time.sleep(random.uniform(0.8, 1.6))\n",
    "\n",
    "        res = s.get(url, timeout=15)\n",
    "        if res.status_code!=200:\n",
    "            print(f\"crawling failed from page {page}!\")\n",
    "            break\n",
    "    \n",
    "    soup=BeautifulSoup(res.text, 'html.parser')\n",
    "    temp=\"\".join([element.text for element in soup.select(\"#textinput > p\") if element.text!='\\xa0'])\n",
    "    if temp=='':\n",
    "        temp=soup.select_one(\"#textinput\").text\n",
    "    news_list.append(temp)\n",
    "    \n",
    "df = pd.DataFrame(\n",
    "    [{\"news\": n, \"date\": date.replace(\"-\", \".\")} for n in news_list],\n",
    "    columns=[\"news\", \"date\"],\n",
    ")\n",
    "df.to_csv(f\"news_list/{date}.csv\", index=False)"
   ]
  },
  {
   "cell_type": "markdown",
   "id": "3ef06f9b",
   "metadata": {},
   "source": [
    "# 3. llm 감성 분석"
   ]
  },
  {
   "cell_type": "code",
   "execution_count": 7,
   "id": "114caa5a",
   "metadata": {},
   "outputs": [
    {
     "name": "stderr",
     "output_type": "stream",
     "text": [
      "/Users/dogiheon/Desktop/invigoworks/.venv/lib/python3.13/site-packages/IPython/core/interactiveshell.py:3699: LangChainDeprecationWarning: As of langchain-core 0.3.0, LangChain uses pydantic v2 internally. The langchain_core.pydantic_v1 module was a compatibility shim for pydantic v1, and should no longer be used. Please update the code to import from Pydantic directly.\n",
      "\n",
      "For example, replace imports like: `from langchain_core.pydantic_v1 import BaseModel`\n",
      "with: `from pydantic import BaseModel`\n",
      "or the v1 compatibility namespace if you are working in a code base that has not been fully upgraded to pydantic 2 yet. \tfrom pydantic.v1 import BaseModel\n",
      "\n",
      "  exec(code_obj, self.user_global_ns, self.user_ns)\n"
     ]
    }
   ],
   "source": [
    "from typing import Literal\n",
    "from langchain_core.prompts import ChatPromptTemplate\n",
    "from langchain_core.output_parsers import JsonOutputParser\n",
    "from langchain_core.pydantic_v1 import BaseModel, Field\n",
    "from langchain_openai import ChatOpenAI\n",
    "import pandas as pd\n",
    "import os\n",
    "from dotenv import load_dotenv\n",
    "\n",
    "load_dotenv(verbose=True)\n",
    "\n",
    "# 1) 출력 스키마 정의\n",
    "class Sentiment(BaseModel):\n",
    "    label: Literal[\"negative\", \"neutral\", \"positive\"] = Field(..., description=\"감성 라벨\")\n",
    "\n",
    "parser = JsonOutputParser(pydantic_object=Sentiment)\n",
    "\n",
    "# 2) 프롬프트 템플릿\n",
    "system_text = \"\"\"뉴스 감성 분석기다.\n",
    "- 사실 전달형/중립적 보도 톤은 기본값으로 neutral 처리한다.\n",
    "- 명백한 악재(적자 확대, 리콜, 규제 불이익, 급락 등)는 negative.\n",
    "- 명백한 호재(사상 최대 실적, 대규모 투자 유치/수주, 급등 등)는 positive.\n",
    "- 혼재할 경우 기사 전체 톤 기준으로 단 하나의 라벨만 선택한다.\n",
    "- 반드시 JSON 한 줄만 출력한다.\n",
    "출력 스키마: {{\"label\":\"negative|neutral|positive\"}}\n",
    "\"\"\"\n",
    "\n",
    "human_text = \"\"\"\n",
    "본문: {body}\n",
    "\n",
    "{format_instructions}\n",
    "\"\"\"\n",
    "\n",
    "prompt = ChatPromptTemplate.from_messages(\n",
    "    [\n",
    "        (\"system\", system_text),\n",
    "        (\"human\", human_text),\n",
    "    ]\n",
    ").partial(format_instructions=parser.get_format_instructions())\n",
    "\n",
    "# 3) 모델 정의 (환경변수 OPENAI_API_KEY 필요)\n",
    "OPENAI_API_KEY=os.getenv('OPENAI_API_KEY')\n",
    "\n",
    "llm = ChatOpenAI(model=\"gpt-4o-mini\", temperature=0, api_key=OPENAI_API_KEY)  # 임의 모델. 교체 가능\n",
    "\n",
    "# 4) 체인 구성: Prompt -> LLM -> JSON 파서\n",
    "chain = prompt | llm | parser"
   ]
  },
  {
   "cell_type": "code",
   "execution_count": 8,
   "id": "7f4a743b",
   "metadata": {},
   "outputs": [],
   "source": [
    "def parseResponse(label):\n",
    "    if label==\"negative\":\n",
    "        return -1\n",
    "    elif label==\"neutral\":\n",
    "        return 0\n",
    "    else:\n",
    "        return 1"
   ]
  },
  {
   "cell_type": "code",
   "execution_count": 9,
   "id": "0e2a45b5",
   "metadata": {},
   "outputs": [],
   "source": [
    "df=pd.read_csv(f\"news_list/{date}.csv\")"
   ]
  },
  {
   "cell_type": "code",
   "execution_count": 10,
   "id": "d082d44a",
   "metadata": {},
   "outputs": [],
   "source": [
    "news_list=df[\"news\"].tolist()\n",
    "\n",
    "labels=[0]*len(news_list)"
   ]
  },
  {
   "cell_type": "code",
   "execution_count": 11,
   "id": "e00f9e7e",
   "metadata": {},
   "outputs": [
    {
     "name": "stdout",
     "output_type": "stream",
     "text": [
      "1/4 finished...\n",
      "2/4 finished...\n",
      "3/4 finished...\n",
      "4/4 finished...\n"
     ]
    }
   ],
   "source": [
    "for idx, news in enumerate(news_list):\n",
    "    labels[idx]=parseResponse(chain.invoke(news)[\"label\"])\n",
    "    print(f\"{idx+1}/{len(news_list)} finished...\")"
   ]
  },
  {
   "cell_type": "code",
   "execution_count": 12,
   "id": "5204ab34",
   "metadata": {},
   "outputs": [],
   "source": [
    "df[\"label\"]=labels\n",
    "df.to_csv(f\"news_list_group_by_date/{date.replace(\"-\",\".\")}.csv\", index=False)"
   ]
  },
  {
   "cell_type": "code",
   "execution_count": null,
   "id": "09df4a4b",
   "metadata": {},
   "outputs": [],
   "source": []
  }
 ],
 "metadata": {
  "kernelspec": {
   "display_name": ".venv (3.13.5)",
   "language": "python",
   "name": "python3"
  },
  "language_info": {
   "codemirror_mode": {
    "name": "ipython",
    "version": 3
   },
   "file_extension": ".py",
   "mimetype": "text/x-python",
   "name": "python",
   "nbconvert_exporter": "python",
   "pygments_lexer": "ipython3",
   "version": "3.13.5"
  }
 },
 "nbformat": 4,
 "nbformat_minor": 5
}
